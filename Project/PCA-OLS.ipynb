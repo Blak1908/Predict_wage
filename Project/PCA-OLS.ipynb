{
 "cells": [
  {
   "cell_type": "code",
   "execution_count": 1,
   "id": "06ce7ce7-4e1f-47a6-b8f1-731f315be409",
   "metadata": {},
   "outputs": [],
   "source": [
    "import pandas as pd\n",
    "import numpy as np\n",
    "import scipy.stats as stats\n",
    "import matplotlib.pyplot as plt\n",
    "import seaborn as sns\n",
    "import statsmodels.api as smf\n",
    "import statsmodels.formula.api as sm\n",
    "import warnings\n",
    "warnings.filterwarnings('ignore')"
   ]
  },
  {
   "cell_type": "code",
   "execution_count": 2,
   "id": "061afece-cc7a-4ab9-aaca-3fd7b9bf2d80",
   "metadata": {},
   "outputs": [],
   "source": [
    "df = pd.read_csv('wage.csv', usecols=['educ', 'expersq', 'IQ', 'black', 'married'])"
   ]
  },
  {
   "cell_type": "code",
   "execution_count": 3,
   "id": "597bf55b-bfdb-4009-8aa0-71ef3eae94f2",
   "metadata": {},
   "outputs": [
    {
     "data": {
      "text/html": [
       "<div>\n",
       "<style scoped>\n",
       "    .dataframe tbody tr th:only-of-type {\n",
       "        vertical-align: middle;\n",
       "    }\n",
       "\n",
       "    .dataframe tbody tr th {\n",
       "        vertical-align: top;\n",
       "    }\n",
       "\n",
       "    .dataframe thead th {\n",
       "        text-align: right;\n",
       "    }\n",
       "</style>\n",
       "<table border=\"1\" class=\"dataframe\">\n",
       "  <thead>\n",
       "    <tr style=\"text-align: right;\">\n",
       "      <th></th>\n",
       "      <th>educ</th>\n",
       "      <th>black</th>\n",
       "      <th>IQ</th>\n",
       "      <th>married</th>\n",
       "      <th>expersq</th>\n",
       "    </tr>\n",
       "  </thead>\n",
       "  <tbody>\n",
       "    <tr>\n",
       "      <th>1</th>\n",
       "      <td>12</td>\n",
       "      <td>0</td>\n",
       "      <td>93.0</td>\n",
       "      <td>1.0</td>\n",
       "      <td>81</td>\n",
       "    </tr>\n",
       "    <tr>\n",
       "      <th>2</th>\n",
       "      <td>12</td>\n",
       "      <td>0</td>\n",
       "      <td>103.0</td>\n",
       "      <td>1.0</td>\n",
       "      <td>256</td>\n",
       "    </tr>\n",
       "    <tr>\n",
       "      <th>3</th>\n",
       "      <td>11</td>\n",
       "      <td>0</td>\n",
       "      <td>88.0</td>\n",
       "      <td>1.0</td>\n",
       "      <td>100</td>\n",
       "    </tr>\n",
       "    <tr>\n",
       "      <th>4</th>\n",
       "      <td>12</td>\n",
       "      <td>0</td>\n",
       "      <td>108.0</td>\n",
       "      <td>1.0</td>\n",
       "      <td>256</td>\n",
       "    </tr>\n",
       "    <tr>\n",
       "      <th>5</th>\n",
       "      <td>12</td>\n",
       "      <td>0</td>\n",
       "      <td>85.0</td>\n",
       "      <td>1.0</td>\n",
       "      <td>64</td>\n",
       "    </tr>\n",
       "    <tr>\n",
       "      <th>...</th>\n",
       "      <td>...</td>\n",
       "      <td>...</td>\n",
       "      <td>...</td>\n",
       "      <td>...</td>\n",
       "      <td>...</td>\n",
       "    </tr>\n",
       "    <tr>\n",
       "      <th>2999</th>\n",
       "      <td>16</td>\n",
       "      <td>1</td>\n",
       "      <td>79.0</td>\n",
       "      <td>1.0</td>\n",
       "      <td>16</td>\n",
       "    </tr>\n",
       "    <tr>\n",
       "      <th>3000</th>\n",
       "      <td>13</td>\n",
       "      <td>0</td>\n",
       "      <td>102.0</td>\n",
       "      <td>1.0</td>\n",
       "      <td>64</td>\n",
       "    </tr>\n",
       "    <tr>\n",
       "      <th>3003</th>\n",
       "      <td>12</td>\n",
       "      <td>1</td>\n",
       "      <td>77.0</td>\n",
       "      <td>1.0</td>\n",
       "      <td>36</td>\n",
       "    </tr>\n",
       "    <tr>\n",
       "      <th>3007</th>\n",
       "      <td>12</td>\n",
       "      <td>0</td>\n",
       "      <td>109.0</td>\n",
       "      <td>1.0</td>\n",
       "      <td>36</td>\n",
       "    </tr>\n",
       "    <tr>\n",
       "      <th>3008</th>\n",
       "      <td>12</td>\n",
       "      <td>0</td>\n",
       "      <td>107.0</td>\n",
       "      <td>1.0</td>\n",
       "      <td>169</td>\n",
       "    </tr>\n",
       "  </tbody>\n",
       "</table>\n",
       "<p>2060 rows × 5 columns</p>\n",
       "</div>"
      ],
      "text/plain": [
       "      educ  black     IQ  married  expersq\n",
       "1       12      0   93.0      1.0       81\n",
       "2       12      0  103.0      1.0      256\n",
       "3       11      0   88.0      1.0      100\n",
       "4       12      0  108.0      1.0      256\n",
       "5       12      0   85.0      1.0       64\n",
       "...    ...    ...    ...      ...      ...\n",
       "2999    16      1   79.0      1.0       16\n",
       "3000    13      0  102.0      1.0       64\n",
       "3003    12      1   77.0      1.0       36\n",
       "3007    12      0  109.0      1.0       36\n",
       "3008    12      0  107.0      1.0      169\n",
       "\n",
       "[2060 rows x 5 columns]"
      ]
     },
     "execution_count": 3,
     "metadata": {},
     "output_type": "execute_result"
    }
   ],
   "source": [
    "df = df.dropna()\n",
    "df"
   ]
  },
  {
   "cell_type": "code",
   "execution_count": 16,
   "id": "167526d0-866e-4544-81f2-8708158e3b3e",
   "metadata": {},
   "outputs": [
    {
     "data": {
      "text/plain": [
       "numpy.ndarray"
      ]
     },
     "execution_count": 16,
     "metadata": {},
     "output_type": "execute_result"
    }
   ],
   "source": [
    "ndarray = df.to_numpy()\n"
   ]
  },
  {
   "cell_type": "code",
   "execution_count": 5,
   "id": "94c3ef18-e2fc-422f-89c3-51a347dfd672",
   "metadata": {},
   "outputs": [],
   "source": [
    "from sklearn.decomposition import PCA\n",
    "import matplotlib.pyplot as plt"
   ]
  },
  {
   "cell_type": "code",
   "execution_count": 6,
   "id": "f213787b-8ae9-4bff-ab6b-280ea47f66e6",
   "metadata": {},
   "outputs": [],
   "source": [
    "pca = PCA(n_components=1).fit(ndarray)"
   ]
  },
  {
   "cell_type": "code",
   "execution_count": 20,
   "id": "9540464c-a8a3-4f12-8241-b7deb75a302f",
   "metadata": {},
   "outputs": [],
   "source": [
    "data = pd.read_csv('wage.csv', usecols=['educ', 'expersq', 'IQ', 'black', 'married','wage'])\n",
    "data = data.dropna()\n",
    "y = np.array(data['wage'])"
   ]
  },
  {
   "cell_type": "code",
   "execution_count": 8,
   "id": "ccb010ad-7f22-4531-8c72-5d653bc8a3ea",
   "metadata": {},
   "outputs": [
    {
     "data": {
      "text/plain": [
       "array([[548],\n",
       "       [481],\n",
       "       [721],\n",
       "       ...,\n",
       "       [500],\n",
       "       [713],\n",
       "       [525]], dtype=int64)"
      ]
     },
     "execution_count": 8,
     "metadata": {},
     "output_type": "execute_result"
    }
   ],
   "source": [
    "y"
   ]
  },
  {
   "cell_type": "code",
   "execution_count": 21,
   "id": "94e7b849-6980-4f69-b4c1-e5559adb6923",
   "metadata": {},
   "outputs": [],
   "source": [
    "from sklearn.model_selection import train_test_split\n",
    "from sklearn.pipeline import make_pipeline\n",
    "from sklearn.linear_model import LinearRegression\n",
    "from sklearn.preprocessing import StandardScaler\n",
    "from sklearn.decomposition import PCA"
   ]
  },
  {
   "cell_type": "code",
   "execution_count": 22,
   "id": "f53cecad-fbee-4d25-8dd5-0a71b11c7a31",
   "metadata": {},
   "outputs": [],
   "source": [
    "X_train, X_test, y_train, y_test = train_test_split(ndarray,y)"
   ]
  },
  {
   "cell_type": "code",
   "execution_count": 23,
   "id": "cb9a97ad-9277-4439-bc95-35d1f1ad20e6",
   "metadata": {},
   "outputs": [],
   "source": [
    "pcr = make_pipeline(StandardScaler(), PCA(n_components=1), LinearRegression())\n",
    "pcr.fit(X_train, y_train)\n",
    "pca = pcr.named_steps[\"pca\"]  # retrieve the PCA step of the pipeline"
   ]
  },
  {
   "cell_type": "code",
   "execution_count": 26,
   "id": "d230469a-a937-4858-804f-0a9965c6750b",
   "metadata": {},
   "outputs": [
    {
     "ename": "TypeError",
     "evalue": "from_formula() missing 1 required positional argument: 'data'",
     "output_type": "error",
     "traceback": [
      "\u001b[1;31m---------------------------------------------------------------------------\u001b[0m",
      "\u001b[1;31mTypeError\u001b[0m                                 Traceback (most recent call last)",
      "Input \u001b[1;32mIn [26]\u001b[0m, in \u001b[0;36m<cell line: 1>\u001b[1;34m()\u001b[0m\n\u001b[1;32m----> 1\u001b[0m model \u001b[38;5;241m=\u001b[39m \u001b[43msm\u001b[49m\u001b[38;5;241;43m.\u001b[39;49m\u001b[43mols\u001b[49m\u001b[43m(\u001b[49m\u001b[43my_train\u001b[49m\u001b[43m,\u001b[49m\u001b[43mn_components\u001b[49m\u001b[38;5;241;43m=\u001b[39;49m\u001b[38;5;241;43m1\u001b[39;49m\u001b[43m)\u001b[49m\u001b[38;5;241m.\u001b[39mfit()\n",
      "\u001b[1;31mTypeError\u001b[0m: from_formula() missing 1 required positional argument: 'data'"
     ]
    }
   ],
   "source": [
    "model = sm.ols(y_train,n_components=1).fit()"
   ]
  },
  {
   "cell_type": "code",
   "execution_count": null,
   "id": "8cedfbbd-0db8-4005-a537-9ad496477eba",
   "metadata": {},
   "outputs": [],
   "source": []
  }
 ],
 "metadata": {
  "kernelspec": {
   "display_name": "Python 3 (ipykernel)",
   "language": "python",
   "name": "python3"
  },
  "language_info": {
   "codemirror_mode": {
    "name": "ipython",
    "version": 3
   },
   "file_extension": ".py",
   "mimetype": "text/x-python",
   "name": "python",
   "nbconvert_exporter": "python",
   "pygments_lexer": "ipython3",
   "version": "3.9.12"
  }
 },
 "nbformat": 4,
 "nbformat_minor": 5
}
